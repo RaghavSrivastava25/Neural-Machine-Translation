{
  "nbformat": 4,
  "nbformat_minor": 0,
  "metadata": {
    "colab": {
      "name": "Rus/Eng LangTranslation.ipynb",
      "provenance": [],
      "collapsed_sections": [],
      "authorship_tag": "ABX9TyP8qM/t2lQBnI3KCAEva3RK",
      "include_colab_link": true
    },
    "kernelspec": {
      "name": "python3",
      "display_name": "Python 3"
    },
    "language_info": {
      "name": "python"
    }
  },
  "cells": [
    {
      "cell_type": "markdown",
      "metadata": {
        "id": "view-in-github",
        "colab_type": "text"
      },
      "source": [
        "<a href=\"https://colab.research.google.com/github/RaghavSrivastava25/Neural-Machine-Translation/blob/main/Rus_Eng_LangTranslation.ipynb\" target=\"_parent\"><img src=\"https://colab.research.google.com/assets/colab-badge.svg\" alt=\"Open In Colab\"/></a>"
      ]
    },
    {
      "cell_type": "code",
      "source": [
        "import numpy as np\n",
        "import tensorflow as tf\n",
        "from tensorflow import keras"
      ],
      "metadata": {
        "id": "55iecculHKZT"
      },
      "execution_count": null,
      "outputs": []
    },
    {
      "cell_type": "markdown",
      "source": [],
      "metadata": {
        "id": "U-BX1DMwmfxg"
      }
    },
    {
      "cell_type": "code",
      "source": [
        "!!curl -O http://www.manythings.org/anki/rus-eng.zip\n",
        "!!unzip rus-eng.zip"
      ],
      "metadata": {
        "colab": {
          "base_uri": "https://localhost:8080/"
        },
        "id": "Zgx5eKWMHteC",
        "outputId": "e8d12b33-b21e-416c-df65-8a186bf99838"
      },
      "execution_count": null,
      "outputs": [
        {
          "output_type": "execute_result",
          "data": {
            "text/plain": [
              "['Archive:  rus-eng.zip',\n",
              " 'replace rus.txt? [y]es, [n]o, [A]ll, [N]one, [r]ename: ',\n",
              " 'error:  invalid response [{ENTER}]',\n",
              " 'replace rus.txt? [y]es, [n]o, [A]ll, [N]one, [r]ename: yes',\n",
              " '  inflating: rus.txt                 ',\n",
              " 'replace _about.txt? [y]es, [n]o, [A]ll, [N]one, [r]ename: yes',\n",
              " '  inflating: _about.txt              ']"
            ]
          },
          "metadata": {},
          "execution_count": 7
        }
      ]
    },
    {
      "cell_type": "code",
      "source": [
        "batch_size = 64\n",
        "epochs = 20\n",
        "latent_dim = 256\n",
        "num_samples = 20000\n",
        "data_path = \"rus.txt\""
      ],
      "metadata": {
        "id": "s-dEJ5ZrH36K"
      },
      "execution_count": null,
      "outputs": []
    },
    {
      "cell_type": "code",
      "source": [
        "input_texts = []\n",
        "target_texts = []\n",
        "input_characters = set()\n",
        "target_characters = set()\n",
        "with open(data_path, \"r\", encoding=\"utf-8\") as f:\n",
        "    lines = f.read().split(\"\\n\")\n",
        "for line in lines[: min(num_samples, len(lines) - 1)]:\n",
        "    input_text, target_text, _ = line.split(\"\\t\")\n",
        "    target_text = \"\\t\" + target_text + \"\\n\"\n",
        "    input_texts.append(input_text)\n",
        "    target_texts.append(target_text)\n",
        "    for char in input_text:\n",
        "        if char not in input_characters:\n",
        "            input_characters.add(char)\n",
        "    for char in target_text:\n",
        "        if char not in target_characters:\n",
        "            target_characters.add(char)\n",
        "\n",
        "input_characters = sorted(list(input_characters))\n",
        "target_characters = sorted(list(target_characters))\n",
        "num_encoder_tokens = len(input_characters)\n",
        "num_decoder_tokens = len(target_characters)\n",
        "max_encoder_seq_length = max([len(txt) for txt in input_texts])\n",
        "max_decoder_seq_length = max([len(txt) for txt in target_texts])\n",
        "\n",
        "print(\"Number of samples:\", len(input_texts))\n",
        "print(\"Number of unique input tokens:\", num_encoder_tokens)\n",
        "print(\"Number of unique output tokens:\", num_decoder_tokens)\n",
        "print(\"Max sequence length for inputs:\", max_encoder_seq_length)\n",
        "print(\"Max sequence length for outputs:\", max_decoder_seq_length)\n",
        "\n",
        "input_token_index = dict([(char, i) for i, char in enumerate(input_characters)])\n",
        "target_token_index = dict([(char, i) for i, char in enumerate(target_characters)])\n",
        "\n",
        "encoder_input_data = np.zeros(\n",
        "    (len(input_texts), max_encoder_seq_length, num_encoder_tokens), dtype=\"float32\"\n",
        ")\n",
        "decoder_input_data = np.zeros(\n",
        "    (len(input_texts), max_decoder_seq_length, num_decoder_tokens), dtype=\"float32\"\n",
        ")\n",
        "decoder_target_data = np.zeros(\n",
        "    (len(input_texts), max_decoder_seq_length, num_decoder_tokens), dtype=\"float32\"\n",
        ")\n",
        "\n",
        "for i, (input_text, target_text) in enumerate(zip(input_texts, target_texts)):\n",
        "    for t, char in enumerate(input_text):\n",
        "        encoder_input_data[i, t, input_token_index[char]] = 1.0\n",
        "    encoder_input_data[i, t + 1 :, input_token_index[\" \"]] = 1.0\n",
        "    for t, char in enumerate(target_text):\n",
        "        decoder_input_data[i, t, target_token_index[char]] = 1.0\n",
        "        if t > 0:\n",
        "            decoder_target_data[i, t - 1, target_token_index[char]] = 1.0\n",
        "    decoder_input_data[i, t + 1 :, target_token_index[\" \"]] = 1.0\n",
        "    decoder_target_data[i, t:, target_token_index[\" \"]] = 1.0"
      ],
      "metadata": {
        "colab": {
          "base_uri": "https://localhost:8080/"
        },
        "id": "cKOsPRH7IXrU",
        "outputId": "45114a6c-e918-4993-fba2-e011ff57e050"
      },
      "execution_count": null,
      "outputs": [
        {
          "output_type": "stream",
          "name": "stdout",
          "text": [
            "Number of samples: 20000\n",
            "Number of unique input tokens: 74\n",
            "Number of unique output tokens: 100\n",
            "Max sequence length for inputs: 15\n",
            "Max sequence length for outputs: 60\n"
          ]
        }
      ]
    },
    {
      "cell_type": "code",
      "source": [
        "encoder_inputs = keras.Input(shape=(None, num_encoder_tokens))\n",
        "encoder = keras.layers.LSTM(latent_dim, return_state=True)\n",
        "encoder_outputs, state_h, state_c = encoder(encoder_inputs)\n",
        "encoder_states = [state_h, state_c]\n",
        "decoder_inputs = keras.Input(shape=(None, num_decoder_tokens))\n",
        "decoder_lstm = keras.layers.LSTM(latent_dim, return_sequences=True, return_state=True)\n",
        "decoder_outputs, _, _ = decoder_lstm(decoder_inputs, initial_state=encoder_states)\n",
        "decoder_dense = keras.layers.Dense(num_decoder_tokens, activation=\"softmax\")\n",
        "decoder_outputs = decoder_dense(decoder_outputs)\n",
        "model = keras.Model([encoder_inputs, decoder_inputs], decoder_outputs)"
      ],
      "metadata": {
        "id": "EYixrYHlKIVw"
      },
      "execution_count": null,
      "outputs": []
    },
    {
      "cell_type": "code",
      "source": [
        "model.compile(\n",
        "    optimizer=\"adam\", loss=\"categorical_crossentropy\", metrics=[\"accuracy\"]\n",
        ")\n",
        "model.fit(\n",
        "    [encoder_input_data, decoder_input_data],\n",
        "    decoder_target_data,\n",
        "    batch_size=batch_size,\n",
        "    epochs=epochs,\n",
        "    validation_split=0.2,\n",
        ")\n",
        "model.save(\"s2s\")"
      ],
      "metadata": {
        "colab": {
          "base_uri": "https://localhost:8080/"
        },
        "id": "Q_8ik8opKSBT",
        "outputId": "763d07a9-3166-425f-bc8b-5bf62af2f5ab"
      },
      "execution_count": null,
      "outputs": [
        {
          "output_type": "stream",
          "name": "stdout",
          "text": [
            "Epoch 1/20\n",
            "250/250 [==============================] - 91s 352ms/step - loss: 0.9883 - accuracy: 0.7767 - val_loss: 0.8258 - val_accuracy: 0.7835\n",
            "Epoch 2/20\n",
            "250/250 [==============================] - 90s 361ms/step - loss: 0.6492 - accuracy: 0.8235 - val_loss: 0.6635 - val_accuracy: 0.8140\n",
            "Epoch 3/20\n",
            "250/250 [==============================] - 90s 360ms/step - loss: 0.5845 - accuracy: 0.8366 - val_loss: 0.8533 - val_accuracy: 0.7862\n",
            "Epoch 4/20\n",
            "250/250 [==============================] - 86s 346ms/step - loss: 0.5613 - accuracy: 0.8401 - val_loss: 0.5960 - val_accuracy: 0.8281\n",
            "Epoch 5/20\n",
            "250/250 [==============================] - 86s 343ms/step - loss: 0.5148 - accuracy: 0.8498 - val_loss: 0.5747 - val_accuracy: 0.8325\n",
            "Epoch 6/20\n",
            "250/250 [==============================] - 85s 341ms/step - loss: 0.4961 - accuracy: 0.8547 - val_loss: 0.5586 - val_accuracy: 0.8381\n",
            "Epoch 7/20\n",
            "250/250 [==============================] - 85s 341ms/step - loss: 0.4798 - accuracy: 0.8596 - val_loss: 0.5429 - val_accuracy: 0.8427\n",
            "Epoch 8/20\n",
            "250/250 [==============================] - 84s 336ms/step - loss: 0.4645 - accuracy: 0.8639 - val_loss: 0.5289 - val_accuracy: 0.8470\n",
            "Epoch 9/20\n",
            "250/250 [==============================] - 85s 340ms/step - loss: 0.4488 - accuracy: 0.8688 - val_loss: 0.5139 - val_accuracy: 0.8518\n",
            "Epoch 10/20\n",
            "250/250 [==============================] - 85s 340ms/step - loss: 0.4333 - accuracy: 0.8734 - val_loss: 0.5005 - val_accuracy: 0.8568\n",
            "Epoch 11/20\n",
            "250/250 [==============================] - 85s 341ms/step - loss: 0.4183 - accuracy: 0.8783 - val_loss: 0.4902 - val_accuracy: 0.8578\n",
            "Epoch 12/20\n",
            "250/250 [==============================] - 84s 336ms/step - loss: 0.4049 - accuracy: 0.8823 - val_loss: 0.4758 - val_accuracy: 0.8634\n",
            "Epoch 13/20\n",
            "250/250 [==============================] - 85s 340ms/step - loss: 0.3911 - accuracy: 0.8862 - val_loss: 0.4656 - val_accuracy: 0.8662\n",
            "Epoch 14/20\n",
            "250/250 [==============================] - 85s 340ms/step - loss: 0.3779 - accuracy: 0.8900 - val_loss: 0.4544 - val_accuracy: 0.8695\n",
            "Epoch 15/20\n",
            "250/250 [==============================] - 85s 339ms/step - loss: 0.3655 - accuracy: 0.8937 - val_loss: 0.4473 - val_accuracy: 0.8712\n",
            "Epoch 16/20\n",
            "250/250 [==============================] - 84s 335ms/step - loss: 0.3534 - accuracy: 0.8970 - val_loss: 0.4375 - val_accuracy: 0.8755\n",
            "Epoch 17/20\n",
            "250/250 [==============================] - 85s 340ms/step - loss: 0.3418 - accuracy: 0.9002 - val_loss: 0.4288 - val_accuracy: 0.8775\n",
            "Epoch 18/20\n",
            "250/250 [==============================] - 85s 341ms/step - loss: 0.3304 - accuracy: 0.9034 - val_loss: 0.4218 - val_accuracy: 0.8802\n",
            "Epoch 19/20\n",
            "250/250 [==============================] - 85s 340ms/step - loss: 0.3194 - accuracy: 0.9063 - val_loss: 0.4139 - val_accuracy: 0.8819\n",
            "Epoch 20/20\n",
            "250/250 [==============================] - 84s 336ms/step - loss: 0.3088 - accuracy: 0.9094 - val_loss: 0.4071 - val_accuracy: 0.8848\n"
          ]
        },
        {
          "output_type": "stream",
          "name": "stderr",
          "text": [
            "WARNING:absl:Found untraced functions such as lstm_cell_2_layer_call_fn, lstm_cell_2_layer_call_and_return_conditional_losses, lstm_cell_3_layer_call_fn, lstm_cell_3_layer_call_and_return_conditional_losses while saving (showing 4 of 4). These functions will not be directly callable after loading.\n",
            "WARNING:absl:<keras.layers.recurrent.LSTMCell object at 0x7fd064436290> has the same name 'LSTMCell' as a built-in Keras object. Consider renaming <class 'keras.layers.recurrent.LSTMCell'> to avoid naming conflicts when loading with `tf.keras.models.load_model`. If renaming is not possible, pass the object in the `custom_objects` parameter of the load function.\n",
            "WARNING:absl:<keras.layers.recurrent.LSTMCell object at 0x7fd06c50bc90> has the same name 'LSTMCell' as a built-in Keras object. Consider renaming <class 'keras.layers.recurrent.LSTMCell'> to avoid naming conflicts when loading with `tf.keras.models.load_model`. If renaming is not possible, pass the object in the `custom_objects` parameter of the load function.\n"
          ]
        }
      ]
    },
    {
      "cell_type": "code",
      "source": [
        "model = keras.models.load_model(\"s2s\")\n",
        "\n",
        "encoder_inputs = model.input[0]  \n",
        "encoder_outputs, state_h_enc, state_c_enc = model.layers[2].output  \n",
        "encoder_states = [state_h_enc, state_c_enc]\n",
        "encoder_model = keras.Model(encoder_inputs, encoder_states)\n",
        "\n",
        "decoder_inputs = model.input[1]  \n",
        "decoder_state_input_h = keras.Input(shape=(latent_dim,))\n",
        "decoder_state_input_c = keras.Input(shape=(latent_dim,))\n",
        "decoder_states_inputs = [decoder_state_input_h, decoder_state_input_c]\n",
        "decoder_lstm = model.layers[3]\n",
        "decoder_outputs, state_h_dec, state_c_dec = decoder_lstm(\n",
        "    decoder_inputs, initial_state=decoder_states_inputs\n",
        ")\n",
        "decoder_states = [state_h_dec, state_c_dec]\n",
        "decoder_dense = model.layers[4]\n",
        "decoder_outputs = decoder_dense(decoder_outputs)\n",
        "decoder_model = keras.Model(\n",
        "    [decoder_inputs] + decoder_states_inputs, [decoder_outputs] + decoder_states\n",
        ")\n",
        "\n",
        "reverse_input_char_index = dict((i, char) for char, i in input_token_index.items())\n",
        "reverse_target_char_index = dict((i, char) for char, i in target_token_index.items())\n",
        "\n",
        "\n",
        "def decode_sequence(input_seq):\n",
        "    states_value = encoder_model.predict(input_seq)\n",
        "    target_seq = np.zeros((1, 1, num_decoder_tokens))\n",
        "    target_seq[0, 0, target_token_index[\"\\t\"]] = 1.0\n",
        "    stop_condition = False\n",
        "    decoded_sentence = \"\"\n",
        "    while not stop_condition:\n",
        "        output_tokens, h, c = decoder_model.predict([target_seq] + states_value)\n",
        "        sampled_token_index = np.argmax(output_tokens[0, -1, :])\n",
        "        sampled_char = reverse_target_char_index[sampled_token_index]\n",
        "        decoded_sentence += sampled_char\n",
        "        if sampled_char == \"\\n\" or len(decoded_sentence) > max_decoder_seq_length:\n",
        "            stop_condition = True\n",
        "        target_seq = np.zeros((1, 1, num_decoder_tokens))\n",
        "        target_seq[0, 0, sampled_token_index] = 1.0\n",
        "        states_value = [h, c]\n",
        "    return decoded_sentence"
      ],
      "metadata": {
        "id": "CaW4nRfgKpwq"
      },
      "execution_count": null,
      "outputs": []
    },
    {
      "cell_type": "code",
      "source": [
        "for seq_index in range(20):\n",
        "    input_seq = encoder_input_data[seq_index : seq_index + 1]\n",
        "    decoded_sentence = decode_sequence(input_seq)\n",
        "    print(\"-\")\n",
        "    print(\"Input sentence:\", input_texts[seq_index])\n",
        "    print(\"Decoded sentence:\", decoded_sentence)"
      ],
      "metadata": {
        "colab": {
          "base_uri": "https://localhost:8080/"
        },
        "id": "pfG-33saLRrb",
        "outputId": "fb6ffe75-a9f4-4788-f7f4-b128937c6656"
      },
      "execution_count": null,
      "outputs": [
        {
          "output_type": "stream",
          "name": "stdout",
          "text": [
            "-\n",
            "Input sentence: Go.\n",
            "Decoded sentence: Пойдите сюда.\n",
            "\n",
            "-\n",
            "Input sentence: Go.\n",
            "Decoded sentence: Пойдите сюда.\n",
            "\n",
            "-\n",
            "Input sentence: Go.\n",
            "Decoded sentence: Пойдите сюда.\n",
            "\n",
            "-\n",
            "Input sentence: Hi.\n",
            "Decoded sentence: Привет!\n",
            "\n",
            "-\n",
            "Input sentence: Hi.\n",
            "Decoded sentence: Привет!\n",
            "\n",
            "-\n",
            "Input sentence: Hi.\n",
            "Decoded sentence: Привет!\n",
            "\n",
            "-\n",
            "Input sentence: Hi.\n",
            "Decoded sentence: Привет!\n",
            "\n",
            "-\n",
            "Input sentence: Hi.\n",
            "Decoded sentence: Привет!\n",
            "\n",
            "-\n",
            "Input sentence: Hi.\n",
            "Decoded sentence: Привет!\n",
            "\n",
            "-\n",
            "Input sentence: Run!\n",
            "Decoded sentence: Бедь тебе.\n",
            "\n",
            "-\n",
            "Input sentence: Run!\n",
            "Decoded sentence: Бедь тебе.\n",
            "\n",
            "-\n",
            "Input sentence: Run.\n",
            "Decoded sentence: Не умерте.\n",
            "\n",
            "-\n",
            "Input sentence: Run.\n",
            "Decoded sentence: Не умерте.\n",
            "\n",
            "-\n",
            "Input sentence: Who?\n",
            "Decoded sentence: Кто так я пол?\n",
            "\n",
            "-\n",
            "Input sentence: Wow!\n",
            "Decoded sentence: Покажи!\n",
            "\n",
            "-\n",
            "Input sentence: Wow!\n",
            "Decoded sentence: Покажи!\n",
            "\n",
            "-\n",
            "Input sentence: Wow!\n",
            "Decoded sentence: Покажи!\n",
            "\n",
            "-\n",
            "Input sentence: Wow!\n",
            "Decoded sentence: Покажи!\n",
            "\n",
            "-\n",
            "Input sentence: Wow!\n",
            "Decoded sentence: Покажи!\n",
            "\n",
            "-\n",
            "Input sentence: Wow!\n",
            "Decoded sentence: Покажи!\n",
            "\n"
          ]
        }
      ]
    }
  ]
}